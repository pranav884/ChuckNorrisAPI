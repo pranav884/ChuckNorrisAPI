{
 "cells": [
  {
   "cell_type": "code",
   "execution_count": 1,
   "metadata": {},
   "outputs": [],
   "source": [
    "import json\n",
    "import requests\n",
    "import pandas as pd\n",
    "url=\"http://api.icndb.com/jokes/json?\"# url\n",
    "pr={\n",
    "\"value\":\"\"\n",
    "}\n",
    "r=requests.get(url,params=pr)\n",
    "d=r.content\n",
    "p=json.loads(d)\n",
    "m=p[\"value\"]\n",
    "t=pd.read_csv(\"ID.csv\").values \n",
    "t=t.reshape(-1,)\n",
    "a_jokes=[]\n",
    "for i in range(len(m)):\n",
    "    if(m[i]['id'] in t):\n",
    "        joke=m[i]['joke']\n",
    "        a_jokes.append(joke)\n",
    "df=pd.DataFrame({'ID':t, 'joke': a_jokes})\n",
    "df.to_csv(\"aashi.csv\",index=False)"
   ]
  }
 ],
 "metadata": {
  "kernelspec": {
   "display_name": "Python 3",
   "language": "python",
   "name": "python3"
  },
  "language_info": {
   "codemirror_mode": {
    "name": "ipython",
    "version": 3
   },
   "file_extension": ".py",
   "mimetype": "text/x-python",
   "name": "python",
   "nbconvert_exporter": "python",
   "pygments_lexer": "ipython3",
   "version": "3.7.4"
  }
 },
 "nbformat": 4,
 "nbformat_minor": 4
}
